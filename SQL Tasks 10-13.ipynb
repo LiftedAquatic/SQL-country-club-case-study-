{
 "cells": [
  {
   "cell_type": "markdown",
   "metadata": {},
   "source": [
    "/* PART 2: SQLite\n",
    "/* We now want you to jump over to a local instance of the database on your machine. \n",
    "\n",
    "Copy and paste the LocalSQLConnection.py script into an empty Jupyter notebook, and run it. \n",
    "\n",
    "Make sure that the SQLFiles folder containing thes files is in your working directory, and\n",
    "that you haven't changed the name of the .db file from 'sqlite\\db\\pythonsqlite'.\n",
    "\n",
    "You should see the output from the initial query 'SELECT * FROM FACILITIES'.\n",
    "\n",
    "Complete the remaining tasks in the Jupyter interface. If you struggle, feel free to go back\n",
    "to the PHPMyAdmin interface as and when you need to. \n",
    "\n",
    "You'll need to paste your query into value of the 'query1' variable and run the code block again to get an output."
   ]
  },
  {
   "cell_type": "code",
   "execution_count": 1,
   "metadata": {},
   "outputs": [],
   "source": [
    "import pandas as pd\n",
    "import sqlite3"
   ]
  },
  {
   "cell_type": "code",
   "execution_count": 2,
   "metadata": {},
   "outputs": [],
   "source": [
    "conn = sqlite3.connect(\"sqlite_db_pythonsqlite.db\")\n",
    "# cur = conn.cursor()\n",
    "# cur.execute(\"SELECT * FROM Facilities\")\n",
    "# results = cur.fetchall()"
   ]
  },
  {
   "cell_type": "code",
   "execution_count": 3,
   "metadata": {},
   "outputs": [
    {
     "data": {
      "text/html": "<style  type=\"text/css\" >\n</style><table id=\"T_947c7_\" ><thead>    <tr>        <th class=\"col_heading level0 col0\" >facility</th>        <th class=\"col_heading level0 col1\" >revenue</th>    </tr></thead><tbody>\n                <tr>\n                                <td id=\"T_947c7_row0_col0\" class=\"data row0 col0\" >Pool Table</td>\n                        <td id=\"T_947c7_row0_col1\" class=\"data row0 col1\" >270</td>\n            </tr>\n            <tr>\n                                <td id=\"T_947c7_row1_col0\" class=\"data row1 col0\" >Snooker Table</td>\n                        <td id=\"T_947c7_row1_col1\" class=\"data row1 col1\" >240</td>\n            </tr>\n            <tr>\n                                <td id=\"T_947c7_row2_col0\" class=\"data row2 col0\" >Table Tennis</td>\n                        <td id=\"T_947c7_row2_col1\" class=\"data row2 col1\" >180</td>\n            </tr>\n    </tbody></table>",
      "text/plain": "<pandas.io.formats.style.Styler at 0x10d979340>"
     },
     "execution_count": 3,
     "metadata": {},
     "output_type": "execute_result"
    }
   ],
   "source": [
    "# Q10: Produce a list of facilities with a total revenue less than 1000.\n",
    "#      The output of facility name and total revenue, sorted by revenue. \n",
    "#      Remember that there's a different cost for guests and members!\n",
    "\n",
    "query = '''SELECT f.name AS facility,\n",
    "            SUM(CASE WHEN Bookings.memid <> 0 THEN f.membercost * Bookings.slots\n",
    "    \t            ELSE f.guestcost * Bookings.slots END) AS revenue\n",
    "            FROM Facilities AS f\n",
    "            INNER JOIN Bookings ON f.facid = Bookings.facid\n",
    "            GROUP BY 1 HAVING revenue < 1000\n",
    "            ORDER BY revenue DESC;'''\n",
    "\n",
    "\n",
    "df = pd.read_sql_query(query, conn)\n",
    "df.style.hide_index()"
   ]
  },
  {
   "cell_type": "code",
   "execution_count": 4,
   "metadata": {},
   "outputs": [
    {
     "data": {
      "text/html": "<style  type=\"text/css\" >\n</style><table id=\"T_42ebf_\" ><thead>    <tr>        <th class=\"col_heading level0 col0\" >new member</th>        <th class=\"col_heading level0 col1\" >recommended by</th>    </tr></thead><tbody>\n                <tr>\n                                <td id=\"T_42ebf_row0_col0\" class=\"data row0 col0\" >Florence Bader</td>\n                        <td id=\"T_42ebf_row0_col1\" class=\"data row0 col1\" >Ponder Stibbons</td>\n            </tr>\n            <tr>\n                                <td id=\"T_42ebf_row1_col0\" class=\"data row1 col0\" >Anne Baker</td>\n                        <td id=\"T_42ebf_row1_col1\" class=\"data row1 col1\" >Ponder Stibbons</td>\n            </tr>\n            <tr>\n                                <td id=\"T_42ebf_row2_col0\" class=\"data row2 col0\" >Timothy Baker</td>\n                        <td id=\"T_42ebf_row2_col1\" class=\"data row2 col1\" >Jemima Farrell</td>\n            </tr>\n            <tr>\n                                <td id=\"T_42ebf_row3_col0\" class=\"data row3 col0\" >Tim Boothe</td>\n                        <td id=\"T_42ebf_row3_col1\" class=\"data row3 col1\" >Tim Rownam</td>\n            </tr>\n            <tr>\n                                <td id=\"T_42ebf_row4_col0\" class=\"data row4 col0\" >Gerald Butters</td>\n                        <td id=\"T_42ebf_row4_col1\" class=\"data row4 col1\" >Darren Smith</td>\n            </tr>\n            <tr>\n                                <td id=\"T_42ebf_row5_col0\" class=\"data row5 col0\" >Joan Coplin</td>\n                        <td id=\"T_42ebf_row5_col1\" class=\"data row5 col1\" >Timothy Baker</td>\n            </tr>\n            <tr>\n                                <td id=\"T_42ebf_row6_col0\" class=\"data row6 col0\" >Erica Crumpet</td>\n                        <td id=\"T_42ebf_row6_col1\" class=\"data row6 col1\" >Tracy Smith</td>\n            </tr>\n            <tr>\n                                <td id=\"T_42ebf_row7_col0\" class=\"data row7 col0\" >Nancy Dare</td>\n                        <td id=\"T_42ebf_row7_col1\" class=\"data row7 col1\" >Janice Joplette</td>\n            </tr>\n            <tr>\n                                <td id=\"T_42ebf_row8_col0\" class=\"data row8 col0\" >Matthew Genting</td>\n                        <td id=\"T_42ebf_row8_col1\" class=\"data row8 col1\" >Gerald Butters</td>\n            </tr>\n            <tr>\n                                <td id=\"T_42ebf_row9_col0\" class=\"data row9 col0\" >John Hunt</td>\n                        <td id=\"T_42ebf_row9_col1\" class=\"data row9 col1\" >Millicent Purview</td>\n            </tr>\n            <tr>\n                                <td id=\"T_42ebf_row10_col0\" class=\"data row10 col0\" >David Jones</td>\n                        <td id=\"T_42ebf_row10_col1\" class=\"data row10 col1\" >Janice Joplette</td>\n            </tr>\n            <tr>\n                                <td id=\"T_42ebf_row11_col0\" class=\"data row11 col0\" >Douglas Jones</td>\n                        <td id=\"T_42ebf_row11_col1\" class=\"data row11 col1\" >David Jones</td>\n            </tr>\n            <tr>\n                                <td id=\"T_42ebf_row12_col0\" class=\"data row12 col0\" >Janice Joplette</td>\n                        <td id=\"T_42ebf_row12_col1\" class=\"data row12 col1\" >Darren Smith</td>\n            </tr>\n            <tr>\n                                <td id=\"T_42ebf_row13_col0\" class=\"data row13 col0\" >Anna Mackenzie</td>\n                        <td id=\"T_42ebf_row13_col1\" class=\"data row13 col1\" >Darren Smith</td>\n            </tr>\n            <tr>\n                                <td id=\"T_42ebf_row14_col0\" class=\"data row14 col0\" >Charles Owen</td>\n                        <td id=\"T_42ebf_row14_col1\" class=\"data row14 col1\" >Darren Smith</td>\n            </tr>\n            <tr>\n                                <td id=\"T_42ebf_row15_col0\" class=\"data row15 col0\" >David Pinker</td>\n                        <td id=\"T_42ebf_row15_col1\" class=\"data row15 col1\" >Jemima Farrell</td>\n            </tr>\n            <tr>\n                                <td id=\"T_42ebf_row16_col0\" class=\"data row16 col0\" >Millicent Purview</td>\n                        <td id=\"T_42ebf_row16_col1\" class=\"data row16 col1\" >Tracy Smith</td>\n            </tr>\n            <tr>\n                                <td id=\"T_42ebf_row17_col0\" class=\"data row17 col0\" >Henrietta Rumney</td>\n                        <td id=\"T_42ebf_row17_col1\" class=\"data row17 col1\" >Matthew Genting</td>\n            </tr>\n            <tr>\n                                <td id=\"T_42ebf_row18_col0\" class=\"data row18 col0\" >Ramnaresh Sarwin</td>\n                        <td id=\"T_42ebf_row18_col1\" class=\"data row18 col1\" >Florence Bader</td>\n            </tr>\n            <tr>\n                                <td id=\"T_42ebf_row19_col0\" class=\"data row19 col0\" >Jack Smith</td>\n                        <td id=\"T_42ebf_row19_col1\" class=\"data row19 col1\" >Darren Smith</td>\n            </tr>\n            <tr>\n                                <td id=\"T_42ebf_row20_col0\" class=\"data row20 col0\" >Ponder Stibbons</td>\n                        <td id=\"T_42ebf_row20_col1\" class=\"data row20 col1\" >Burton Tracy</td>\n            </tr>\n            <tr>\n                                <td id=\"T_42ebf_row21_col0\" class=\"data row21 col0\" >Henry Worthington-Smyth</td>\n                        <td id=\"T_42ebf_row21_col1\" class=\"data row21 col1\" >Tracy Smith</td>\n            </tr>\n    </tbody></table>",
      "text/plain": "<pandas.io.formats.style.Styler at 0x10d979070>"
     },
     "execution_count": 4,
     "metadata": {},
     "output_type": "execute_result"
    }
   ],
   "source": [
    "# Q11: Produce a report of members and who recommended them in alphabetic surname,firstname order \n",
    "\n",
    "query = '''SELECT m.firstname || ' ' || m.surname AS 'new member',\n",
    "\t\t  m1.firstname || ' ' || m1.surname AS 'recommended by'\n",
    "        FROM Members as m\n",
    "        INNER JOIN Members as m1 \n",
    "        ON m.recommendedby = m1.memid\n",
    "        WHERE m1.memid <> 0\n",
    "        ORDER BY m.surname, m.firstname;'''\n",
    "\n",
    "df = pd.read_sql_query(query, conn)\n",
    "df.style.hide_index()"
   ]
  },
  {
   "cell_type": "code",
   "execution_count": 5,
   "metadata": {},
   "outputs": [
    {
     "data": {
      "text/html": "<style  type=\"text/css\" >\n</style><table id=\"T_d4ee1_\" ><thead>    <tr>        <th class=\"col_heading level0 col0\" >name</th>        <th class=\"col_heading level0 col1\" >usage_by_member</th>    </tr></thead><tbody>\n                <tr>\n                                <td id=\"T_d4ee1_row0_col0\" class=\"data row0 col0\" >Pool Table</td>\n                        <td id=\"T_d4ee1_row0_col1\" class=\"data row0 col1\" >783</td>\n            </tr>\n            <tr>\n                                <td id=\"T_d4ee1_row1_col0\" class=\"data row1 col0\" >Massage Room 1</td>\n                        <td id=\"T_d4ee1_row1_col1\" class=\"data row1 col1\" >421</td>\n            </tr>\n            <tr>\n                                <td id=\"T_d4ee1_row2_col0\" class=\"data row2 col0\" >Snooker Table</td>\n                        <td id=\"T_d4ee1_row2_col1\" class=\"data row2 col1\" >421</td>\n            </tr>\n            <tr>\n                                <td id=\"T_d4ee1_row3_col0\" class=\"data row3 col0\" >Table Tennis</td>\n                        <td id=\"T_d4ee1_row3_col1\" class=\"data row3 col1\" >385</td>\n            </tr>\n            <tr>\n                                <td id=\"T_d4ee1_row4_col0\" class=\"data row4 col0\" >Badminton Court</td>\n                        <td id=\"T_d4ee1_row4_col1\" class=\"data row4 col1\" >344</td>\n            </tr>\n            <tr>\n                                <td id=\"T_d4ee1_row5_col0\" class=\"data row5 col0\" >Tennis Court 1</td>\n                        <td id=\"T_d4ee1_row5_col1\" class=\"data row5 col1\" >308</td>\n            </tr>\n            <tr>\n                                <td id=\"T_d4ee1_row6_col0\" class=\"data row6 col0\" >Tennis Court 2</td>\n                        <td id=\"T_d4ee1_row6_col1\" class=\"data row6 col1\" >276</td>\n            </tr>\n            <tr>\n                                <td id=\"T_d4ee1_row7_col0\" class=\"data row7 col0\" >Squash Court</td>\n                        <td id=\"T_d4ee1_row7_col1\" class=\"data row7 col1\" >195</td>\n            </tr>\n            <tr>\n                                <td id=\"T_d4ee1_row8_col0\" class=\"data row8 col0\" >Massage Room 2</td>\n                        <td id=\"T_d4ee1_row8_col1\" class=\"data row8 col1\" >27</td>\n            </tr>\n    </tbody></table>",
      "text/plain": "<pandas.io.formats.style.Styler at 0x1218fea00>"
     },
     "execution_count": 5,
     "metadata": {},
     "output_type": "execute_result"
    }
   ],
   "source": [
    "# Q12: Find the facilities with their usage by member, but not guests \n",
    "\n",
    "query = '''\n",
    "SELECT f.name, b.total AS usage_by_member\n",
    "FROM (SELECT facid, name \n",
    "      FROM Facilities) AS f\n",
    "LEFT JOIN (SELECT facid, COUNT(*) AS total\n",
    "           FROM Bookings as b\n",
    "           WHERE memid <> 0\n",
    "           GROUP BY facid) AS b \n",
    "           ON f.facid = b.facid\n",
    "ORDER BY usage_by_member DESC;'''\n",
    "\n",
    "\n",
    "df = pd.read_sql_query(query, conn)\n",
    "df.style.hide_index()"
   ]
  },
  {
   "cell_type": "code",
   "execution_count": 6,
   "metadata": {},
   "outputs": [
    {
     "data": {
      "text/html": "<style  type=\"text/css\" >\n</style><table id=\"T_c88e2_\" ><thead>    <tr>        <th class=\"col_heading level0 col0\" >Month</th>        <th class=\"col_heading level0 col1\" >name</th>        <th class=\"col_heading level0 col2\" >monthly_usage</th>    </tr></thead><tbody>\n                <tr>\n                                <td id=\"T_c88e2_row0_col0\" class=\"data row0 col0\" >07</td>\n                        <td id=\"T_c88e2_row0_col1\" class=\"data row0 col1\" >Badminton Court</td>\n                        <td id=\"T_c88e2_row0_col2\" class=\"data row0 col2\" >165</td>\n            </tr>\n            <tr>\n                                <td id=\"T_c88e2_row1_col0\" class=\"data row1 col0\" >07</td>\n                        <td id=\"T_c88e2_row1_col1\" class=\"data row1 col1\" >Massage Room 1</td>\n                        <td id=\"T_c88e2_row1_col2\" class=\"data row1 col2\" >166</td>\n            </tr>\n            <tr>\n                                <td id=\"T_c88e2_row2_col0\" class=\"data row2 col0\" >07</td>\n                        <td id=\"T_c88e2_row2_col1\" class=\"data row2 col1\" >Massage Room 2</td>\n                        <td id=\"T_c88e2_row2_col2\" class=\"data row2 col2\" >8</td>\n            </tr>\n            <tr>\n                                <td id=\"T_c88e2_row3_col0\" class=\"data row3 col0\" >07</td>\n                        <td id=\"T_c88e2_row3_col1\" class=\"data row3 col1\" >Pool Table</td>\n                        <td id=\"T_c88e2_row3_col2\" class=\"data row3 col2\" >110</td>\n            </tr>\n            <tr>\n                                <td id=\"T_c88e2_row4_col0\" class=\"data row4 col0\" >07</td>\n                        <td id=\"T_c88e2_row4_col1\" class=\"data row4 col1\" >Snooker Table</td>\n                        <td id=\"T_c88e2_row4_col2\" class=\"data row4 col2\" >140</td>\n            </tr>\n            <tr>\n                                <td id=\"T_c88e2_row5_col0\" class=\"data row5 col0\" >07</td>\n                        <td id=\"T_c88e2_row5_col1\" class=\"data row5 col1\" >Squash Court</td>\n                        <td id=\"T_c88e2_row5_col2\" class=\"data row5 col2\" >50</td>\n            </tr>\n            <tr>\n                                <td id=\"T_c88e2_row6_col0\" class=\"data row6 col0\" >07</td>\n                        <td id=\"T_c88e2_row6_col1\" class=\"data row6 col1\" >Table Tennis</td>\n                        <td id=\"T_c88e2_row6_col2\" class=\"data row6 col2\" >98</td>\n            </tr>\n            <tr>\n                                <td id=\"T_c88e2_row7_col0\" class=\"data row7 col0\" >07</td>\n                        <td id=\"T_c88e2_row7_col1\" class=\"data row7 col1\" >Tennis Court 1</td>\n                        <td id=\"T_c88e2_row7_col2\" class=\"data row7 col2\" >201</td>\n            </tr>\n            <tr>\n                                <td id=\"T_c88e2_row8_col0\" class=\"data row8 col0\" >07</td>\n                        <td id=\"T_c88e2_row8_col1\" class=\"data row8 col1\" >Tennis Court 2</td>\n                        <td id=\"T_c88e2_row8_col2\" class=\"data row8 col2\" >123</td>\n            </tr>\n            <tr>\n                                <td id=\"T_c88e2_row9_col0\" class=\"data row9 col0\" >08</td>\n                        <td id=\"T_c88e2_row9_col1\" class=\"data row9 col1\" >Badminton Court</td>\n                        <td id=\"T_c88e2_row9_col2\" class=\"data row9 col2\" >414</td>\n            </tr>\n            <tr>\n                                <td id=\"T_c88e2_row10_col0\" class=\"data row10 col0\" >08</td>\n                        <td id=\"T_c88e2_row10_col1\" class=\"data row10 col1\" >Massage Room 1</td>\n                        <td id=\"T_c88e2_row10_col2\" class=\"data row10 col2\" >316</td>\n            </tr>\n            <tr>\n                                <td id=\"T_c88e2_row11_col0\" class=\"data row11 col0\" >08</td>\n                        <td id=\"T_c88e2_row11_col1\" class=\"data row11 col1\" >Massage Room 2</td>\n                        <td id=\"T_c88e2_row11_col2\" class=\"data row11 col2\" >18</td>\n            </tr>\n            <tr>\n                                <td id=\"T_c88e2_row12_col0\" class=\"data row12 col0\" >08</td>\n                        <td id=\"T_c88e2_row12_col1\" class=\"data row12 col1\" >Pool Table</td>\n                        <td id=\"T_c88e2_row12_col2\" class=\"data row12 col2\" >303</td>\n            </tr>\n            <tr>\n                                <td id=\"T_c88e2_row13_col0\" class=\"data row13 col0\" >08</td>\n                        <td id=\"T_c88e2_row13_col1\" class=\"data row13 col1\" >Snooker Table</td>\n                        <td id=\"T_c88e2_row13_col2\" class=\"data row13 col2\" >316</td>\n            </tr>\n            <tr>\n                                <td id=\"T_c88e2_row14_col0\" class=\"data row14 col0\" >08</td>\n                        <td id=\"T_c88e2_row14_col1\" class=\"data row14 col1\" >Squash Court</td>\n                        <td id=\"T_c88e2_row14_col2\" class=\"data row14 col2\" >184</td>\n            </tr>\n            <tr>\n                                <td id=\"T_c88e2_row15_col0\" class=\"data row15 col0\" >08</td>\n                        <td id=\"T_c88e2_row15_col1\" class=\"data row15 col1\" >Table Tennis</td>\n                        <td id=\"T_c88e2_row15_col2\" class=\"data row15 col2\" >296</td>\n            </tr>\n            <tr>\n                                <td id=\"T_c88e2_row16_col0\" class=\"data row16 col0\" >08</td>\n                        <td id=\"T_c88e2_row16_col1\" class=\"data row16 col1\" >Tennis Court 1</td>\n                        <td id=\"T_c88e2_row16_col2\" class=\"data row16 col2\" >339</td>\n            </tr>\n            <tr>\n                                <td id=\"T_c88e2_row17_col0\" class=\"data row17 col0\" >08</td>\n                        <td id=\"T_c88e2_row17_col1\" class=\"data row17 col1\" >Tennis Court 2</td>\n                        <td id=\"T_c88e2_row17_col2\" class=\"data row17 col2\" >345</td>\n            </tr>\n            <tr>\n                                <td id=\"T_c88e2_row18_col0\" class=\"data row18 col0\" >09</td>\n                        <td id=\"T_c88e2_row18_col1\" class=\"data row18 col1\" >Badminton Court</td>\n                        <td id=\"T_c88e2_row18_col2\" class=\"data row18 col2\" >507</td>\n            </tr>\n            <tr>\n                                <td id=\"T_c88e2_row19_col0\" class=\"data row19 col0\" >09</td>\n                        <td id=\"T_c88e2_row19_col1\" class=\"data row19 col1\" >Massage Room 1</td>\n                        <td id=\"T_c88e2_row19_col2\" class=\"data row19 col2\" >402</td>\n            </tr>\n            <tr>\n                                <td id=\"T_c88e2_row20_col0\" class=\"data row20 col0\" >09</td>\n                        <td id=\"T_c88e2_row20_col1\" class=\"data row20 col1\" >Massage Room 2</td>\n                        <td id=\"T_c88e2_row20_col2\" class=\"data row20 col2\" >28</td>\n            </tr>\n            <tr>\n                                <td id=\"T_c88e2_row21_col0\" class=\"data row21 col0\" >09</td>\n                        <td id=\"T_c88e2_row21_col1\" class=\"data row21 col1\" >Pool Table</td>\n                        <td id=\"T_c88e2_row21_col2\" class=\"data row21 col2\" >443</td>\n            </tr>\n            <tr>\n                                <td id=\"T_c88e2_row22_col0\" class=\"data row22 col0\" >09</td>\n                        <td id=\"T_c88e2_row22_col1\" class=\"data row22 col1\" >Snooker Table</td>\n                        <td id=\"T_c88e2_row22_col2\" class=\"data row22 col2\" >404</td>\n            </tr>\n            <tr>\n                                <td id=\"T_c88e2_row23_col0\" class=\"data row23 col0\" >09</td>\n                        <td id=\"T_c88e2_row23_col1\" class=\"data row23 col1\" >Squash Court</td>\n                        <td id=\"T_c88e2_row23_col2\" class=\"data row23 col2\" >184</td>\n            </tr>\n            <tr>\n                                <td id=\"T_c88e2_row24_col0\" class=\"data row24 col0\" >09</td>\n                        <td id=\"T_c88e2_row24_col1\" class=\"data row24 col1\" >Table Tennis</td>\n                        <td id=\"T_c88e2_row24_col2\" class=\"data row24 col2\" >400</td>\n            </tr>\n            <tr>\n                                <td id=\"T_c88e2_row25_col0\" class=\"data row25 col0\" >09</td>\n                        <td id=\"T_c88e2_row25_col1\" class=\"data row25 col1\" >Tennis Court 1</td>\n                        <td id=\"T_c88e2_row25_col2\" class=\"data row25 col2\" >417</td>\n            </tr>\n            <tr>\n                                <td id=\"T_c88e2_row26_col0\" class=\"data row26 col0\" >09</td>\n                        <td id=\"T_c88e2_row26_col1\" class=\"data row26 col1\" >Tennis Court 2</td>\n                        <td id=\"T_c88e2_row26_col2\" class=\"data row26 col2\" >414</td>\n            </tr>\n    </tbody></table>",
      "text/plain": "<pandas.io.formats.style.Styler at 0x10d8c73d0>"
     },
     "execution_count": 6,
     "metadata": {},
     "output_type": "execute_result"
    }
   ],
   "source": [
    "# Q13: Find the facilities usage by month, but not guests\n",
    "\n",
    "query = '''\n",
    "SELECT strftime('%m', b.starttime) as Month, f.name, SUM(b.slots) AS monthly_usage\n",
    "        FROM Bookings AS b\n",
    "        LEFT JOIN Facilities AS f \n",
    "        ON f.facid = b.facid\n",
    "        WHERE b.memid <> 0\n",
    "        GROUP BY f.name, month\n",
    "        ORDER BY month;\n",
    "      '''\n",
    "\n",
    "\n",
    "df = pd.read_sql_query(query, conn)\n",
    "df.to_string(index=False)\n",
    "df.style.hide_index()"
   ]
  }
 ],
 "metadata": {
  "kernelspec": {
   "display_name": "Python 3.8.8 64-bit ('base': conda)",
   "name": "python388jvsc74a57bd0dca0ade3e726a953b501b15e8e990130d2b7799f14cfd9f4271676035ebe5511"
  },
  "language_info": {
   "codemirror_mode": {
    "name": "ipython",
    "version": 3
   },
   "file_extension": ".py",
   "mimetype": "text/x-python",
   "name": "python",
   "nbconvert_exporter": "python",
   "pygments_lexer": "ipython3",
   "version": "3.8.8"
  },
  "orig_nbformat": 3
 },
 "nbformat": 4,
 "nbformat_minor": 4
}